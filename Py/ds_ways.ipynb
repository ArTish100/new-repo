{
 "cells": [
  {
   "cell_type": "code",
   "execution_count": null,
   "id": "3db81623-f6fc-45bc-832b-6e46cecd0e97",
   "metadata": {},
   "outputs": [],
   "source": [
    "import pandas as pd\n",
    "list1=[1,2,3,4,5,6]\n",
    "series=pd.Series(list1)\n",
    "series"
   ]
  },
  {
   "cell_type": "code",
   "execution_count": null,
   "id": "289c4c8f-2451-41bf-9bc1-0f909ae36095",
   "metadata": {},
   "outputs": [],
   "source": [
    "import pandas as pd\n",
    "list_num=[100,200,300,400,500,600]\n",
    "list_name=['Eve','B','c','D','E','T']\n",
    "seriesdata=pd.Series(list_num,index=list_name)\n",
    "seriesdata"
   ]
  },
  {
   "cell_type": "code",
   "execution_count": null,
   "id": "d242c49c-2bc5-4487-9250-a01ed8926236",
   "metadata": {},
   "outputs": [],
   "source": [
    "pd.concat([seriesdata,series])\n",
    "new_series=pd.concat([series,seriesdata])\n",
    "new_series"
   ]
  },
  {
   "cell_type": "code",
   "execution_count": null,
   "id": "5a9e8f60-6b46-4fb9-ac6a-6b6d4bc2081d",
   "metadata": {},
   "outputs": [],
   "source": [
    "pd.concat([seriesdata,series])\n",
    "new_series=pd.concat([series,seriesdata])\n",
    "new_series"
   ]
  },
  {
   "cell_type": "code",
   "execution_count": null,
   "id": "07aaba89-7a9f-4964-bfd9-a1273ee5f0f0",
   "metadata": {},
   "outputs": [],
   "source": [
    "series_3=pd.Series(list_num,index=list_name)\n",
    "new_series3=pd.concat([series,series_2,seriesdata],axis=1)\n",
    "new_series3"
   ]
  },
  {
   "cell_type": "code",
   "execution_count": 3,
   "id": "05ffb97f-3cb6-47d3-99fb-f13012579d66",
   "metadata": {},
   "outputs": [],
   "source": [
    "###Data Frame"
   ]
  },
  {
   "cell_type": "code",
   "execution_count": null,
   "id": "b36b2d04-5cab-4065-bf5e-92140586a6ce",
   "metadata": {},
   "outputs": [],
   "source": [
    "dict_marks={'Names':['A','B','C','D'],\n",
    "           'Marks':[10,20,30,40]}\n",
    "df_smarks=pd.DataFrame(dict_marks)\n",
    "df_smarks"
   ]
  },
  {
   "cell_type": "code",
   "execution_count": null,
   "id": "5b624d79-e0c0-4d55-b122-9ad8114a2d2a",
   "metadata": {},
   "outputs": [],
   "source": [
    "dict_marks1={'Names':['E','F','G','H'],\n",
    "           'Marks':[40,30,70,80]}\n",
    "df_smarks1=pd.DataFrame(dict_marks1)\n",
    "df_smarks1"
   ]
  },
  {
   "cell_type": "code",
   "execution_count": null,
   "id": "4c2e1f9b-053d-4a64-b3d7-f93b8d7a6d7d",
   "metadata": {},
   "outputs": [],
   "source": [
    "df_merge=pd.merge(df_smarks,df_smarks1,on='Marks')\n",
    "df_merge"
   ]
  }
 ],
 "metadata": {
  "kernelspec": {
   "display_name": "Python 3 (ipykernel)",
   "language": "python",
   "name": "python3"
  },
  "language_info": {
   "codemirror_mode": {
    "name": "ipython",
    "version": 3
   },
   "file_extension": ".py",
   "mimetype": "text/x-python",
   "name": "python",
   "nbconvert_exporter": "python",
   "pygments_lexer": "ipython3",
   "version": "3.12.4"
  }
 },
 "nbformat": 4,
 "nbformat_minor": 5
}
