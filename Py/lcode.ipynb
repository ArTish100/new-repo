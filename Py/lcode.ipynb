{
 "cells": [
  {
   "cell_type": "code",
   "execution_count": 59,
   "id": "fe1a9474-b26f-4a42-9f36-c3c6ce63692b",
   "metadata": {},
   "outputs": [
    {
     "name": "stdout",
     "output_type": "stream",
     "text": [
      "['/aa', '/ad', '/ad/af']\n",
      "/aa\n",
      "/ad/\n",
      "\n",
      "\n",
      "/ad\n",
      "/ad/\n",
      "['/aa', '/ad']\n"
     ]
    }
   ],
   "source": [
    "from typing import List\n",
    "class Solution:\n",
    "    def removeSubfolders(self, folder: List[str]) -> List[str]:\n",
    "        new_fol=sorted(folder)\n",
    "\n",
    "        begi_fol=new_fol[0]\n",
    "        print(new_fol)\n",
    "        ans=[]\n",
    "        ans.append(begi_fol)\n",
    "        for i in new_fol[1:]:\n",
    "            print(begi_fol,end=\"\\n\")\n",
    "            substr_req=i[0:len(begi_fol)]+\"/\"\n",
    "            if(len(begi_fol)<len(i)):\n",
    "                if i[len(begi_fol)]!=\"/\":\n",
    "                    \n",
    "                    for j in i[len(begi_fol):]:\n",
    "                        if(j==\"/\"):\n",
    "                            break\n",
    "                        print(\"works\")\n",
    "                        substr_req+=j\n",
    "            print(substr_req,end=\"\\n\")\n",
    "            if begi_fol+\"/\"==substr_req:\n",
    "                continue\n",
    "            else:\n",
    "                ans.append(i)\n",
    "                begi_fol=i\n",
    "                print(\"\\n\")\n",
    "                continue\n",
    "        return ans\n",
    "\n",
    "S1 = Solution()\n",
    "folder=[\"/ad\",\"/ad/af\",\"/aa\"]\n",
    "print(S1.removeSubfolders(folder))"
   ]
  }
 ],
 "metadata": {
  "kernelspec": {
   "display_name": "Python 3 (ipykernel)",
   "language": "python",
   "name": "python3"
  },
  "language_info": {
   "codemirror_mode": {
    "name": "ipython",
    "version": 3
   },
   "file_extension": ".py",
   "mimetype": "text/x-python",
   "name": "python",
   "nbconvert_exporter": "python",
   "pygments_lexer": "ipython3",
   "version": "3.11.4"
  }
 },
 "nbformat": 4,
 "nbformat_minor": 5
}
