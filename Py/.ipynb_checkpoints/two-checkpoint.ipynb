{
 "cells": [
  {
   "cell_type": "code",
   "execution_count": 13,
   "id": "dea54cc2-073b-440f-b116-7885466d17d4",
   "metadata": {},
   "outputs": [
    {
     "data": {
      "text/html": [
       "<div>\n",
       "<style scoped>\n",
       "    .dataframe tbody tr th:only-of-type {\n",
       "        vertical-align: middle;\n",
       "    }\n",
       "\n",
       "    .dataframe tbody tr th {\n",
       "        vertical-align: top;\n",
       "    }\n",
       "\n",
       "    .dataframe thead th {\n",
       "        text-align: right;\n",
       "    }\n",
       "</style>\n",
       "<table border=\"1\" class=\"dataframe\">\n",
       "  <thead>\n",
       "    <tr style=\"text-align: right;\">\n",
       "      <th></th>\n",
       "      <th>CustomerID</th>\n",
       "      <th>BikeBuyer</th>\n",
       "      <th>AvgMonthSpend</th>\n",
       "    </tr>\n",
       "  </thead>\n",
       "  <tbody>\n",
       "    <tr>\n",
       "      <th>0</th>\n",
       "      <td>21173</td>\n",
       "      <td>1</td>\n",
       "      <td>50.97</td>\n",
       "    </tr>\n",
       "    <tr>\n",
       "      <th>1</th>\n",
       "      <td>13249</td>\n",
       "      <td>1</td>\n",
       "      <td>53.11</td>\n",
       "    </tr>\n",
       "    <tr>\n",
       "      <th>2</th>\n",
       "      <td>29350</td>\n",
       "      <td>1</td>\n",
       "      <td>54.08</td>\n",
       "    </tr>\n",
       "    <tr>\n",
       "      <th>3</th>\n",
       "      <td>13503</td>\n",
       "      <td>1</td>\n",
       "      <td>56.93</td>\n",
       "    </tr>\n",
       "    <tr>\n",
       "      <th>4</th>\n",
       "      <td>22803</td>\n",
       "      <td>1</td>\n",
       "      <td>55.41</td>\n",
       "    </tr>\n",
       "    <tr>\n",
       "      <th>...</th>\n",
       "      <td>...</td>\n",
       "      <td>...</td>\n",
       "      <td>...</td>\n",
       "    </tr>\n",
       "    <tr>\n",
       "      <th>18350</th>\n",
       "      <td>25414</td>\n",
       "      <td>0</td>\n",
       "      <td>48.14</td>\n",
       "    </tr>\n",
       "    <tr>\n",
       "      <th>18351</th>\n",
       "      <td>11459</td>\n",
       "      <td>1</td>\n",
       "      <td>50.23</td>\n",
       "    </tr>\n",
       "    <tr>\n",
       "      <th>18352</th>\n",
       "      <td>12160</td>\n",
       "      <td>1</td>\n",
       "      <td>49.56</td>\n",
       "    </tr>\n",
       "    <tr>\n",
       "      <th>18353</th>\n",
       "      <td>14353</td>\n",
       "      <td>0</td>\n",
       "      <td>51.42</td>\n",
       "    </tr>\n",
       "    <tr>\n",
       "      <th>18354</th>\n",
       "      <td>16676</td>\n",
       "      <td>1</td>\n",
       "      <td>52.27</td>\n",
       "    </tr>\n",
       "  </tbody>\n",
       "</table>\n",
       "<p>18355 rows × 3 columns</p>\n",
       "</div>"
      ],
      "text/plain": [
       "       CustomerID  BikeBuyer  AvgMonthSpend\n",
       "0           21173          1          50.97\n",
       "1           13249          1          53.11\n",
       "2           29350          1          54.08\n",
       "3           13503          1          56.93\n",
       "4           22803          1          55.41\n",
       "...           ...        ...            ...\n",
       "18350       25414          0          48.14\n",
       "18351       11459          1          50.23\n",
       "18352       12160          1          49.56\n",
       "18353       14353          0          51.42\n",
       "18354       16676          1          52.27\n",
       "\n",
       "[18355 rows x 3 columns]"
      ]
     },
     "execution_count": 13,
     "metadata": {},
     "output_type": "execute_result"
    }
   ],
   "source": [
    "import pandas as pd\n",
    "cust = pd.read_csv(\"C:/Users/predator/Desktop/VS/Py/AWCustomers.csv\")\n",
    "sale = pd.read_csv(\"C:/Users/predator/Desktop/VS/Py/AWSales.csv\")\n",
    "sale"
   ]
  },
  {
   "cell_type": "code",
   "execution_count": 14,
   "id": "d015e454-6148-4383-bcb3-e4f005d2bc31",
   "metadata": {},
   "outputs": [],
   "source": [
    "sale.drop(['CustomerID'],axis=1,inplace=True)"
   ]
  },
  {
   "cell_type": "code",
   "execution_count": 15,
   "id": "be2059de-ab7d-4130-87aa-f200a7d7eec9",
   "metadata": {},
   "outputs": [
    {
     "data": {
      "text/html": [
       "<div>\n",
       "<style scoped>\n",
       "    .dataframe tbody tr th:only-of-type {\n",
       "        vertical-align: middle;\n",
       "    }\n",
       "\n",
       "    .dataframe tbody tr th {\n",
       "        vertical-align: top;\n",
       "    }\n",
       "\n",
       "    .dataframe thead th {\n",
       "        text-align: right;\n",
       "    }\n",
       "</style>\n",
       "<table border=\"1\" class=\"dataframe\">\n",
       "  <thead>\n",
       "    <tr style=\"text-align: right;\">\n",
       "      <th></th>\n",
       "      <th>BikeBuyer</th>\n",
       "      <th>AvgMonthSpend</th>\n",
       "    </tr>\n",
       "  </thead>\n",
       "  <tbody>\n",
       "    <tr>\n",
       "      <th>0</th>\n",
       "      <td>1</td>\n",
       "      <td>50.97</td>\n",
       "    </tr>\n",
       "    <tr>\n",
       "      <th>1</th>\n",
       "      <td>1</td>\n",
       "      <td>53.11</td>\n",
       "    </tr>\n",
       "    <tr>\n",
       "      <th>2</th>\n",
       "      <td>1</td>\n",
       "      <td>54.08</td>\n",
       "    </tr>\n",
       "    <tr>\n",
       "      <th>3</th>\n",
       "      <td>1</td>\n",
       "      <td>56.93</td>\n",
       "    </tr>\n",
       "    <tr>\n",
       "      <th>4</th>\n",
       "      <td>1</td>\n",
       "      <td>55.41</td>\n",
       "    </tr>\n",
       "  </tbody>\n",
       "</table>\n",
       "</div>"
      ],
      "text/plain": [
       "   BikeBuyer  AvgMonthSpend\n",
       "0          1          50.97\n",
       "1          1          53.11\n",
       "2          1          54.08\n",
       "3          1          56.93\n",
       "4          1          55.41"
      ]
     },
     "execution_count": 15,
     "metadata": {},
     "output_type": "execute_result"
    }
   ],
   "source": [
    "sale.head()"
   ]
  },
  {
   "cell_type": "code",
   "execution_count": 16,
   "id": "a4e859d4-fbc0-44c9-990b-eb295156337d",
   "metadata": {},
   "outputs": [],
   "source": [
    "df = pd.concat([cust,sale],axis=1)"
   ]
  },
  {
   "cell_type": "code",
   "execution_count": 17,
   "id": "96ac89d2-3608-43c8-8ed7-12071e722763",
   "metadata": {},
   "outputs": [
    {
     "data": {
      "text/html": [
       "<div>\n",
       "<style scoped>\n",
       "    .dataframe tbody tr th:only-of-type {\n",
       "        vertical-align: middle;\n",
       "    }\n",
       "\n",
       "    .dataframe tbody tr th {\n",
       "        vertical-align: top;\n",
       "    }\n",
       "\n",
       "    .dataframe thead th {\n",
       "        text-align: right;\n",
       "    }\n",
       "</style>\n",
       "<table border=\"1\" class=\"dataframe\">\n",
       "  <thead>\n",
       "    <tr style=\"text-align: right;\">\n",
       "      <th></th>\n",
       "      <th>CustomerID</th>\n",
       "      <th>Title</th>\n",
       "      <th>FirstName</th>\n",
       "      <th>MiddleName</th>\n",
       "      <th>LastName</th>\n",
       "      <th>Suffix</th>\n",
       "      <th>AddressLine1</th>\n",
       "      <th>AddressLine2</th>\n",
       "      <th>City</th>\n",
       "      <th>StateProvinceName</th>\n",
       "      <th>...</th>\n",
       "      <th>Gender</th>\n",
       "      <th>MaritalStatus</th>\n",
       "      <th>HomeOwnerFlag</th>\n",
       "      <th>NumberCarsOwned</th>\n",
       "      <th>NumberChildrenAtHome</th>\n",
       "      <th>TotalChildren</th>\n",
       "      <th>YearlyIncome</th>\n",
       "      <th>LastUpdated</th>\n",
       "      <th>BikeBuyer</th>\n",
       "      <th>AvgMonthSpend</th>\n",
       "    </tr>\n",
       "  </thead>\n",
       "  <tbody>\n",
       "    <tr>\n",
       "      <th>0</th>\n",
       "      <td>21173</td>\n",
       "      <td>NaN</td>\n",
       "      <td>Chad</td>\n",
       "      <td>C</td>\n",
       "      <td>Yuan</td>\n",
       "      <td>NaN</td>\n",
       "      <td>7090 C. Mount Hood</td>\n",
       "      <td>NaN</td>\n",
       "      <td>Wollongong</td>\n",
       "      <td>New South Wales</td>\n",
       "      <td>...</td>\n",
       "      <td>M</td>\n",
       "      <td>M</td>\n",
       "      <td>1</td>\n",
       "      <td>3</td>\n",
       "      <td>0</td>\n",
       "      <td>1</td>\n",
       "      <td>81916</td>\n",
       "      <td>2017-03-06</td>\n",
       "      <td>1.0</td>\n",
       "      <td>50.97</td>\n",
       "    </tr>\n",
       "    <tr>\n",
       "      <th>1</th>\n",
       "      <td>13249</td>\n",
       "      <td>NaN</td>\n",
       "      <td>Ryan</td>\n",
       "      <td>NaN</td>\n",
       "      <td>Perry</td>\n",
       "      <td>NaN</td>\n",
       "      <td>3651 Willow Lake Rd</td>\n",
       "      <td>NaN</td>\n",
       "      <td>Shawnee</td>\n",
       "      <td>British Columbia</td>\n",
       "      <td>...</td>\n",
       "      <td>M</td>\n",
       "      <td>M</td>\n",
       "      <td>1</td>\n",
       "      <td>2</td>\n",
       "      <td>1</td>\n",
       "      <td>2</td>\n",
       "      <td>81076</td>\n",
       "      <td>2017-03-06</td>\n",
       "      <td>1.0</td>\n",
       "      <td>53.11</td>\n",
       "    </tr>\n",
       "    <tr>\n",
       "      <th>2</th>\n",
       "      <td>29350</td>\n",
       "      <td>NaN</td>\n",
       "      <td>Julia</td>\n",
       "      <td>NaN</td>\n",
       "      <td>Thompson</td>\n",
       "      <td>NaN</td>\n",
       "      <td>1774 Tice Valley Blvd.</td>\n",
       "      <td>NaN</td>\n",
       "      <td>West Covina</td>\n",
       "      <td>California</td>\n",
       "      <td>...</td>\n",
       "      <td>F</td>\n",
       "      <td>S</td>\n",
       "      <td>0</td>\n",
       "      <td>3</td>\n",
       "      <td>0</td>\n",
       "      <td>0</td>\n",
       "      <td>86387</td>\n",
       "      <td>2017-03-06</td>\n",
       "      <td>1.0</td>\n",
       "      <td>54.08</td>\n",
       "    </tr>\n",
       "    <tr>\n",
       "      <th>3</th>\n",
       "      <td>13503</td>\n",
       "      <td>NaN</td>\n",
       "      <td>Theodore</td>\n",
       "      <td>NaN</td>\n",
       "      <td>Gomez</td>\n",
       "      <td>NaN</td>\n",
       "      <td>2103 Baldwin Dr</td>\n",
       "      <td>NaN</td>\n",
       "      <td>Liverpool</td>\n",
       "      <td>England</td>\n",
       "      <td>...</td>\n",
       "      <td>M</td>\n",
       "      <td>M</td>\n",
       "      <td>1</td>\n",
       "      <td>2</td>\n",
       "      <td>1</td>\n",
       "      <td>2</td>\n",
       "      <td>61481</td>\n",
       "      <td>2017-03-06</td>\n",
       "      <td>1.0</td>\n",
       "      <td>56.93</td>\n",
       "    </tr>\n",
       "    <tr>\n",
       "      <th>4</th>\n",
       "      <td>22803</td>\n",
       "      <td>NaN</td>\n",
       "      <td>Marshall</td>\n",
       "      <td>J</td>\n",
       "      <td>Shan</td>\n",
       "      <td>NaN</td>\n",
       "      <td>Am Gallberg 234</td>\n",
       "      <td>NaN</td>\n",
       "      <td>Werne</td>\n",
       "      <td>Nordrhein-Westfalen</td>\n",
       "      <td>...</td>\n",
       "      <td>M</td>\n",
       "      <td>S</td>\n",
       "      <td>1</td>\n",
       "      <td>1</td>\n",
       "      <td>0</td>\n",
       "      <td>0</td>\n",
       "      <td>51804</td>\n",
       "      <td>2017-03-06</td>\n",
       "      <td>1.0</td>\n",
       "      <td>55.41</td>\n",
       "    </tr>\n",
       "  </tbody>\n",
       "</table>\n",
       "<p>5 rows × 26 columns</p>\n",
       "</div>"
      ],
      "text/plain": [
       "   CustomerID Title FirstName MiddleName  LastName Suffix  \\\n",
       "0       21173   NaN      Chad          C      Yuan    NaN   \n",
       "1       13249   NaN      Ryan        NaN     Perry    NaN   \n",
       "2       29350   NaN     Julia        NaN  Thompson    NaN   \n",
       "3       13503   NaN  Theodore        NaN     Gomez    NaN   \n",
       "4       22803   NaN  Marshall          J      Shan    NaN   \n",
       "\n",
       "             AddressLine1 AddressLine2         City    StateProvinceName  ...  \\\n",
       "0      7090 C. Mount Hood          NaN   Wollongong      New South Wales  ...   \n",
       "1     3651 Willow Lake Rd          NaN      Shawnee     British Columbia  ...   \n",
       "2  1774 Tice Valley Blvd.          NaN  West Covina           California  ...   \n",
       "3         2103 Baldwin Dr          NaN    Liverpool              England  ...   \n",
       "4         Am Gallberg 234          NaN        Werne  Nordrhein-Westfalen  ...   \n",
       "\n",
       "  Gender MaritalStatus HomeOwnerFlag NumberCarsOwned NumberChildrenAtHome  \\\n",
       "0      M             M             1               3                    0   \n",
       "1      M             M             1               2                    1   \n",
       "2      F             S             0               3                    0   \n",
       "3      M             M             1               2                    1   \n",
       "4      M             S             1               1                    0   \n",
       "\n",
       "  TotalChildren YearlyIncome LastUpdated  BikeBuyer  AvgMonthSpend  \n",
       "0             1        81916  2017-03-06        1.0          50.97  \n",
       "1             2        81076  2017-03-06        1.0          53.11  \n",
       "2             0        86387  2017-03-06        1.0          54.08  \n",
       "3             2        61481  2017-03-06        1.0          56.93  \n",
       "4             0        51804  2017-03-06        1.0          55.41  \n",
       "\n",
       "[5 rows x 26 columns]"
      ]
     },
     "execution_count": 17,
     "metadata": {},
     "output_type": "execute_result"
    }
   ],
   "source": [
    "#unnecessary attributes: \n",
    "df.head()"
   ]
  },
  {
   "cell_type": "code",
   "execution_count": 18,
   "id": "39e7e68f-9d4f-4626-89c2-b1fc639b6775",
   "metadata": {},
   "outputs": [
    {
     "name": "stdout",
     "output_type": "stream",
     "text": [
      "<class 'pandas.core.frame.DataFrame'>\n",
      "RangeIndex: 18361 entries, 0 to 18360\n",
      "Data columns (total 26 columns):\n",
      " #   Column                Non-Null Count  Dtype  \n",
      "---  ------                --------------  -----  \n",
      " 0   CustomerID            18361 non-null  int64  \n",
      " 1   Title                 101 non-null    object \n",
      " 2   FirstName             18361 non-null  object \n",
      " 3   MiddleName            10572 non-null  object \n",
      " 4   LastName              18361 non-null  object \n",
      " 5   Suffix                3 non-null      object \n",
      " 6   AddressLine1          18361 non-null  object \n",
      " 7   AddressLine2          311 non-null    object \n",
      " 8   City                  18361 non-null  object \n",
      " 9   StateProvinceName     18361 non-null  object \n",
      " 10  CountryRegionName     18361 non-null  object \n",
      " 11  PostalCode            18361 non-null  object \n",
      " 12  PhoneNumber           18361 non-null  object \n",
      " 13  BirthDate             18361 non-null  object \n",
      " 14  Education             18361 non-null  object \n",
      " 15  Occupation            18361 non-null  object \n",
      " 16  Gender                18361 non-null  object \n",
      " 17  MaritalStatus         18361 non-null  object \n",
      " 18  HomeOwnerFlag         18361 non-null  int64  \n",
      " 19  NumberCarsOwned       18361 non-null  int64  \n",
      " 20  NumberChildrenAtHome  18361 non-null  int64  \n",
      " 21  TotalChildren         18361 non-null  int64  \n",
      " 22  YearlyIncome          18361 non-null  int64  \n",
      " 23  LastUpdated           18361 non-null  object \n",
      " 24  BikeBuyer             18355 non-null  float64\n",
      " 25  AvgMonthSpend         18355 non-null  float64\n",
      "dtypes: float64(2), int64(6), object(18)\n",
      "memory usage: 3.6+ MB\n"
     ]
    }
   ],
   "source": [
    "df.info()"
   ]
  },
  {
   "cell_type": "code",
   "execution_count": 19,
   "id": "e6406507-26c1-4183-8766-9e134e5060f7",
   "metadata": {},
   "outputs": [],
   "source": [
    "df.drop(['Title','Suffix','Education','MaritalStatus','Occupation','Gender','PhoneNumber','MiddleName'],axis=1,inplace=True)"
   ]
  },
  {
   "cell_type": "code",
   "execution_count": 20,
   "id": "87bce715-004d-404d-8b7a-e0869b6926bf",
   "metadata": {},
   "outputs": [
    {
     "name": "stdout",
     "output_type": "stream",
     "text": [
      "<class 'pandas.core.frame.DataFrame'>\n",
      "RangeIndex: 18361 entries, 0 to 18360\n",
      "Data columns (total 18 columns):\n",
      " #   Column                Non-Null Count  Dtype  \n",
      "---  ------                --------------  -----  \n",
      " 0   CustomerID            18361 non-null  int64  \n",
      " 1   FirstName             18361 non-null  object \n",
      " 2   LastName              18361 non-null  object \n",
      " 3   AddressLine1          18361 non-null  object \n",
      " 4   AddressLine2          311 non-null    object \n",
      " 5   City                  18361 non-null  object \n",
      " 6   StateProvinceName     18361 non-null  object \n",
      " 7   CountryRegionName     18361 non-null  object \n",
      " 8   PostalCode            18361 non-null  object \n",
      " 9   BirthDate             18361 non-null  object \n",
      " 10  HomeOwnerFlag         18361 non-null  int64  \n",
      " 11  NumberCarsOwned       18361 non-null  int64  \n",
      " 12  NumberChildrenAtHome  18361 non-null  int64  \n",
      " 13  TotalChildren         18361 non-null  int64  \n",
      " 14  YearlyIncome          18361 non-null  int64  \n",
      " 15  LastUpdated           18361 non-null  object \n",
      " 16  BikeBuyer             18355 non-null  float64\n",
      " 17  AvgMonthSpend         18355 non-null  float64\n",
      "dtypes: float64(2), int64(6), object(10)\n",
      "memory usage: 2.5+ MB\n"
     ]
    }
   ],
   "source": [
    "df.info()"
   ]
  },
  {
   "cell_type": "code",
   "execution_count": 23,
   "id": "85f5b88c-468b-4d49-a4ed-7b38733149f2",
   "metadata": {},
   "outputs": [
    {
     "data": {
      "text/plain": [
       "array([0, 1, 2, 3], dtype=int64)"
      ]
     },
     "execution_count": 23,
     "metadata": {},
     "output_type": "execute_result"
    }
   ],
   "source": [
    "df['NumberChildrenAtHome'].unique()"
   ]
  },
  {
   "cell_type": "code",
   "execution_count": 24,
   "id": "cdec89f5-a6b8-48e5-b331-c0c2fa33ccb8",
   "metadata": {},
   "outputs": [
    {
     "data": {
      "text/plain": [
       "array([ 1.,  0., nan])"
      ]
     },
     "execution_count": 24,
     "metadata": {},
     "output_type": "execute_result"
    }
   ],
   "source": [
    "df['HomeOwnerFlag'].unique()\n",
    "df['BikeBuyer'].unique()\n"
   ]
  },
  {
   "cell_type": "code",
   "execution_count": 25,
   "id": "52fc76ed-5711-4fc7-8683-08d0d020aa2c",
   "metadata": {},
   "outputs": [
    {
     "data": {
      "text/plain": [
       "6"
      ]
     },
     "execution_count": 25,
     "metadata": {},
     "output_type": "execute_result"
    }
   ],
   "source": [
    "df['BikeBuyer'].isnull().sum()"
   ]
  },
  {
   "cell_type": "code",
   "execution_count": 26,
   "id": "ca3aa2ec-327c-47ee-b4f0-11ce15036161",
   "metadata": {},
   "outputs": [
    {
     "data": {
      "text/plain": [
       "18050"
      ]
     },
     "execution_count": 26,
     "metadata": {},
     "output_type": "execute_result"
    }
   ],
   "source": [
    "df['AddressLine2'].isnull().sum()"
   ]
  },
  {
   "cell_type": "code",
   "execution_count": 27,
   "id": "8fb26871-ee48-42f7-aca2-662bdebfd8cc",
   "metadata": {},
   "outputs": [],
   "source": [
    "df.drop(['AddressLine2'],axis=1,inplace=True)"
   ]
  },
  {
   "cell_type": "code",
   "execution_count": 28,
   "id": "6b614b6e-bb68-4b2a-ae2b-601b27bcf2ca",
   "metadata": {},
   "outputs": [
    {
     "data": {
      "text/html": [
       "<div>\n",
       "<style scoped>\n",
       "    .dataframe tbody tr th:only-of-type {\n",
       "        vertical-align: middle;\n",
       "    }\n",
       "\n",
       "    .dataframe tbody tr th {\n",
       "        vertical-align: top;\n",
       "    }\n",
       "\n",
       "    .dataframe thead th {\n",
       "        text-align: right;\n",
       "    }\n",
       "</style>\n",
       "<table border=\"1\" class=\"dataframe\">\n",
       "  <thead>\n",
       "    <tr style=\"text-align: right;\">\n",
       "      <th></th>\n",
       "      <th>CustomerID</th>\n",
       "      <th>HomeOwnerFlag</th>\n",
       "      <th>NumberCarsOwned</th>\n",
       "      <th>NumberChildrenAtHome</th>\n",
       "      <th>TotalChildren</th>\n",
       "      <th>YearlyIncome</th>\n",
       "      <th>BikeBuyer</th>\n",
       "      <th>AvgMonthSpend</th>\n",
       "    </tr>\n",
       "  </thead>\n",
       "  <tbody>\n",
       "    <tr>\n",
       "      <th>count</th>\n",
       "      <td>18361.000000</td>\n",
       "      <td>18361.000000</td>\n",
       "      <td>18361.000000</td>\n",
       "      <td>18361.000000</td>\n",
       "      <td>18361.000000</td>\n",
       "      <td>18361.000000</td>\n",
       "      <td>18355.00000</td>\n",
       "      <td>18355.000000</td>\n",
       "    </tr>\n",
       "    <tr>\n",
       "      <th>mean</th>\n",
       "      <td>20241.987092</td>\n",
       "      <td>0.610588</td>\n",
       "      <td>1.270301</td>\n",
       "      <td>0.338162</td>\n",
       "      <td>0.850389</td>\n",
       "      <td>72754.779642</td>\n",
       "      <td>0.55173</td>\n",
       "      <td>51.767207</td>\n",
       "    </tr>\n",
       "    <tr>\n",
       "      <th>std</th>\n",
       "      <td>5336.332731</td>\n",
       "      <td>0.487630</td>\n",
       "      <td>0.913989</td>\n",
       "      <td>0.568957</td>\n",
       "      <td>0.927315</td>\n",
       "      <td>30686.014313</td>\n",
       "      <td>0.49733</td>\n",
       "      <td>3.438024</td>\n",
       "    </tr>\n",
       "    <tr>\n",
       "      <th>min</th>\n",
       "      <td>11000.000000</td>\n",
       "      <td>0.000000</td>\n",
       "      <td>0.000000</td>\n",
       "      <td>0.000000</td>\n",
       "      <td>0.000000</td>\n",
       "      <td>25435.000000</td>\n",
       "      <td>0.00000</td>\n",
       "      <td>44.100000</td>\n",
       "    </tr>\n",
       "    <tr>\n",
       "      <th>25%</th>\n",
       "      <td>15621.000000</td>\n",
       "      <td>0.000000</td>\n",
       "      <td>1.000000</td>\n",
       "      <td>0.000000</td>\n",
       "      <td>0.000000</td>\n",
       "      <td>53312.000000</td>\n",
       "      <td>0.00000</td>\n",
       "      <td>49.410000</td>\n",
       "    </tr>\n",
       "    <tr>\n",
       "      <th>50%</th>\n",
       "      <td>20248.000000</td>\n",
       "      <td>1.000000</td>\n",
       "      <td>1.000000</td>\n",
       "      <td>0.000000</td>\n",
       "      <td>0.000000</td>\n",
       "      <td>61851.000000</td>\n",
       "      <td>1.00000</td>\n",
       "      <td>51.420000</td>\n",
       "    </tr>\n",
       "    <tr>\n",
       "      <th>75%</th>\n",
       "      <td>24863.000000</td>\n",
       "      <td>1.000000</td>\n",
       "      <td>2.000000</td>\n",
       "      <td>1.000000</td>\n",
       "      <td>2.000000</td>\n",
       "      <td>87410.000000</td>\n",
       "      <td>1.00000</td>\n",
       "      <td>53.600000</td>\n",
       "    </tr>\n",
       "    <tr>\n",
       "      <th>max</th>\n",
       "      <td>29483.000000</td>\n",
       "      <td>1.000000</td>\n",
       "      <td>5.000000</td>\n",
       "      <td>3.000000</td>\n",
       "      <td>3.000000</td>\n",
       "      <td>139115.000000</td>\n",
       "      <td>1.00000</td>\n",
       "      <td>65.290000</td>\n",
       "    </tr>\n",
       "  </tbody>\n",
       "</table>\n",
       "</div>"
      ],
      "text/plain": [
       "         CustomerID  HomeOwnerFlag  NumberCarsOwned  NumberChildrenAtHome  \\\n",
       "count  18361.000000   18361.000000     18361.000000          18361.000000   \n",
       "mean   20241.987092       0.610588         1.270301              0.338162   \n",
       "std     5336.332731       0.487630         0.913989              0.568957   \n",
       "min    11000.000000       0.000000         0.000000              0.000000   \n",
       "25%    15621.000000       0.000000         1.000000              0.000000   \n",
       "50%    20248.000000       1.000000         1.000000              0.000000   \n",
       "75%    24863.000000       1.000000         2.000000              1.000000   \n",
       "max    29483.000000       1.000000         5.000000              3.000000   \n",
       "\n",
       "       TotalChildren   YearlyIncome    BikeBuyer  AvgMonthSpend  \n",
       "count   18361.000000   18361.000000  18355.00000   18355.000000  \n",
       "mean        0.850389   72754.779642      0.55173      51.767207  \n",
       "std         0.927315   30686.014313      0.49733       3.438024  \n",
       "min         0.000000   25435.000000      0.00000      44.100000  \n",
       "25%         0.000000   53312.000000      0.00000      49.410000  \n",
       "50%         0.000000   61851.000000      1.00000      51.420000  \n",
       "75%         2.000000   87410.000000      1.00000      53.600000  \n",
       "max         3.000000  139115.000000      1.00000      65.290000  "
      ]
     },
     "execution_count": 28,
     "metadata": {},
     "output_type": "execute_result"
    }
   ],
   "source": [
    "df.describe()"
   ]
  },
  {
   "cell_type": "code",
   "execution_count": 29,
   "id": "da75bb48-d70e-468c-95e1-45f4923635ba",
   "metadata": {},
   "outputs": [
    {
     "name": "stdout",
     "output_type": "stream",
     "text": [
      "<class 'pandas.core.frame.DataFrame'>\n",
      "RangeIndex: 18361 entries, 0 to 18360\n",
      "Data columns (total 17 columns):\n",
      " #   Column                Non-Null Count  Dtype  \n",
      "---  ------                --------------  -----  \n",
      " 0   CustomerID            18361 non-null  int64  \n",
      " 1   FirstName             18361 non-null  object \n",
      " 2   LastName              18361 non-null  object \n",
      " 3   AddressLine1          18361 non-null  object \n",
      " 4   City                  18361 non-null  object \n",
      " 5   StateProvinceName     18361 non-null  object \n",
      " 6   CountryRegionName     18361 non-null  object \n",
      " 7   PostalCode            18361 non-null  object \n",
      " 8   BirthDate             18361 non-null  object \n",
      " 9   HomeOwnerFlag         18361 non-null  int64  \n",
      " 10  NumberCarsOwned       18361 non-null  int64  \n",
      " 11  NumberChildrenAtHome  18361 non-null  int64  \n",
      " 12  TotalChildren         18361 non-null  int64  \n",
      " 13  YearlyIncome          18361 non-null  int64  \n",
      " 14  LastUpdated           18361 non-null  object \n",
      " 15  BikeBuyer             18355 non-null  float64\n",
      " 16  AvgMonthSpend         18355 non-null  float64\n",
      "dtypes: float64(2), int64(6), object(9)\n",
      "memory usage: 2.4+ MB\n"
     ]
    }
   ],
   "source": [
    "df.info()"
   ]
  },
  {
   "cell_type": "code",
   "execution_count": 30,
   "id": "7bd5443e-45dc-4549-bfb3-67a1470c0bbf",
   "metadata": {},
   "outputs": [],
   "source": [
    "df=df.astype({'BirthDate': 'datetime64[ns]'},copy=False)\n",
    "df=df.astype({'LastUpdated': 'datetime64[ns]'},copy=False)"
   ]
  },
  {
   "cell_type": "code",
   "execution_count": 32,
   "id": "ffff36ff-6650-4268-a867-44d9179999dc",
   "metadata": {},
   "outputs": [
    {
     "name": "stdout",
     "output_type": "stream",
     "text": [
      "Categorical Variables:  ['FirstName', 'LastName', 'AddressLine1', 'City', 'StateProvinceName', 'CountryRegionName', 'PostalCode']\n",
      "Numerical variables:  ['CustomerID', 'HomeOwnerFlag', 'NumberCarsOwned', 'NumberChildrenAtHome', 'TotalChildren', 'YearlyIncome', 'BikeBuyer', 'AvgMonthSpend']\n"
     ]
    }
   ],
   "source": [
    "var_cat=[]\n",
    "var_num=[]\n",
    "for c in df.columns:\n",
    "    if df[c].dtype=='object':\n",
    "        var_cat.append(c)\n",
    "    if (df[c].dtype=='int64' or df[c].dtype=='float64'):\n",
    "         var_num.append(c)\n",
    "print(\"Categorical Variables: \",var_cat)\n",
    "print(\"Numerical variables: \",var_num)"
   ]
  },
  {
   "cell_type": "code",
   "execution_count": 34,
   "id": "70ed78af-f800-4c7d-8673-aca31dcf7652",
   "metadata": {},
   "outputs": [
    {
     "name": "stdout",
     "output_type": "stream",
     "text": [
      "Discrete:  ['CustomerID', 'HomeOwnerFlag', 'NumberCarsOwned', 'NumberChildrenAtHome', 'TotalChildren', 'YearlyIncome']\n",
      "Continuous:  ['BikeBuyer', 'AvgMonthSpend']\n"
     ]
    }
   ],
   "source": [
    "num_discrete=[]\n",
    "num_continuous=[]\n",
    "for c in var_num:\n",
    "    if df[c].dtype=='int64':\n",
    "        num_discrete.append(c)\n",
    "    elif df[c].dtype=='float64':\n",
    "        num_continuous.append(c)\n",
    "print(\"Discrete: \",num_discrete)\n",
    "print(\"Continuous: \",num_continuous)"
   ]
  },
  {
   "cell_type": "code",
   "execution_count": 35,
   "id": "6f80ef7b-d7db-4b7e-bc73-9d85ee17b9fb",
   "metadata": {},
   "outputs": [
    {
     "data": {
      "text/plain": [
       "CustomerID              0\n",
       "FirstName               0\n",
       "LastName                0\n",
       "AddressLine1            0\n",
       "City                    0\n",
       "StateProvinceName       0\n",
       "CountryRegionName       0\n",
       "PostalCode              0\n",
       "BirthDate               0\n",
       "HomeOwnerFlag           0\n",
       "NumberCarsOwned         0\n",
       "NumberChildrenAtHome    0\n",
       "TotalChildren           0\n",
       "YearlyIncome            0\n",
       "LastUpdated             0\n",
       "BikeBuyer               6\n",
       "AvgMonthSpend           6\n",
       "dtype: int64"
      ]
     },
     "execution_count": 35,
     "metadata": {},
     "output_type": "execute_result"
    }
   ],
   "source": [
    "df.isnull().sum()"
   ]
  },
  {
   "cell_type": "code",
   "execution_count": 36,
   "id": "e2da6ace-2aaf-44c5-8451-169529ad00c9",
   "metadata": {},
   "outputs": [
    {
     "data": {
      "text/html": [
       "<div>\n",
       "<style scoped>\n",
       "    .dataframe tbody tr th:only-of-type {\n",
       "        vertical-align: middle;\n",
       "    }\n",
       "\n",
       "    .dataframe tbody tr th {\n",
       "        vertical-align: top;\n",
       "    }\n",
       "\n",
       "    .dataframe thead th {\n",
       "        text-align: right;\n",
       "    }\n",
       "</style>\n",
       "<table border=\"1\" class=\"dataframe\">\n",
       "  <thead>\n",
       "    <tr style=\"text-align: right;\">\n",
       "      <th></th>\n",
       "      <th>CustomerID</th>\n",
       "      <th>FirstName</th>\n",
       "      <th>LastName</th>\n",
       "      <th>AddressLine1</th>\n",
       "      <th>City</th>\n",
       "      <th>StateProvinceName</th>\n",
       "      <th>CountryRegionName</th>\n",
       "      <th>PostalCode</th>\n",
       "      <th>BirthDate</th>\n",
       "      <th>HomeOwnerFlag</th>\n",
       "      <th>NumberCarsOwned</th>\n",
       "      <th>NumberChildrenAtHome</th>\n",
       "      <th>TotalChildren</th>\n",
       "      <th>YearlyIncome</th>\n",
       "      <th>LastUpdated</th>\n",
       "      <th>BikeBuyer</th>\n",
       "      <th>AvgMonthSpend</th>\n",
       "    </tr>\n",
       "  </thead>\n",
       "  <tbody>\n",
       "    <tr>\n",
       "      <th>18355</th>\n",
       "      <td>14522</td>\n",
       "      <td>Omar</td>\n",
       "      <td>Zheng</td>\n",
       "      <td>8527 Rock Oak Road</td>\n",
       "      <td>Melton</td>\n",
       "      <td>Victoria</td>\n",
       "      <td>Australia</td>\n",
       "      <td>3337</td>\n",
       "      <td>1967-08-20</td>\n",
       "      <td>1</td>\n",
       "      <td>1</td>\n",
       "      <td>1</td>\n",
       "      <td>2</td>\n",
       "      <td>30442</td>\n",
       "      <td>2017-03-06</td>\n",
       "      <td>NaN</td>\n",
       "      <td>NaN</td>\n",
       "    </tr>\n",
       "    <tr>\n",
       "      <th>18356</th>\n",
       "      <td>25414</td>\n",
       "      <td>Grace</td>\n",
       "      <td>Bailey</td>\n",
       "      <td>6627 Camelback Ct.</td>\n",
       "      <td>Coronado</td>\n",
       "      <td>California</td>\n",
       "      <td>United States</td>\n",
       "      <td>92118</td>\n",
       "      <td>1990-11-11</td>\n",
       "      <td>0</td>\n",
       "      <td>1</td>\n",
       "      <td>0</td>\n",
       "      <td>2</td>\n",
       "      <td>52953</td>\n",
       "      <td>2017-03-06</td>\n",
       "      <td>NaN</td>\n",
       "      <td>NaN</td>\n",
       "    </tr>\n",
       "    <tr>\n",
       "      <th>18357</th>\n",
       "      <td>11459</td>\n",
       "      <td>Tasha</td>\n",
       "      <td>Deng</td>\n",
       "      <td>9627 Kendall Rd</td>\n",
       "      <td>Port Macquarie</td>\n",
       "      <td>New South Wales</td>\n",
       "      <td>Australia</td>\n",
       "      <td>2444</td>\n",
       "      <td>1992-10-13</td>\n",
       "      <td>0</td>\n",
       "      <td>2</td>\n",
       "      <td>0</td>\n",
       "      <td>0</td>\n",
       "      <td>60992</td>\n",
       "      <td>2017-03-06</td>\n",
       "      <td>NaN</td>\n",
       "      <td>NaN</td>\n",
       "    </tr>\n",
       "    <tr>\n",
       "      <th>18358</th>\n",
       "      <td>12160</td>\n",
       "      <td>Jaclyn</td>\n",
       "      <td>Zhang</td>\n",
       "      <td>4364 Viera Avenue</td>\n",
       "      <td>Beaverton</td>\n",
       "      <td>Oregon</td>\n",
       "      <td>United States</td>\n",
       "      <td>97005</td>\n",
       "      <td>1983-11-24</td>\n",
       "      <td>0</td>\n",
       "      <td>2</td>\n",
       "      <td>0</td>\n",
       "      <td>0</td>\n",
       "      <td>51859</td>\n",
       "      <td>2017-03-06</td>\n",
       "      <td>NaN</td>\n",
       "      <td>NaN</td>\n",
       "    </tr>\n",
       "    <tr>\n",
       "      <th>18359</th>\n",
       "      <td>14353</td>\n",
       "      <td>Erin</td>\n",
       "      <td>Reed</td>\n",
       "      <td>3866 Mt. Everest Court</td>\n",
       "      <td>Vancouver</td>\n",
       "      <td>British Columbia</td>\n",
       "      <td>Canada</td>\n",
       "      <td>V7L 4J4</td>\n",
       "      <td>1995-06-15</td>\n",
       "      <td>0</td>\n",
       "      <td>0</td>\n",
       "      <td>0</td>\n",
       "      <td>0</td>\n",
       "      <td>87177</td>\n",
       "      <td>2017-03-06</td>\n",
       "      <td>NaN</td>\n",
       "      <td>NaN</td>\n",
       "    </tr>\n",
       "    <tr>\n",
       "      <th>18360</th>\n",
       "      <td>16676</td>\n",
       "      <td>Amanda</td>\n",
       "      <td>Perry</td>\n",
       "      <td>7870 Orangewood Dr.</td>\n",
       "      <td>Grossmont</td>\n",
       "      <td>California</td>\n",
       "      <td>United States</td>\n",
       "      <td>91941</td>\n",
       "      <td>1986-03-26</td>\n",
       "      <td>1</td>\n",
       "      <td>2</td>\n",
       "      <td>0</td>\n",
       "      <td>0</td>\n",
       "      <td>136856</td>\n",
       "      <td>2017-03-06</td>\n",
       "      <td>NaN</td>\n",
       "      <td>NaN</td>\n",
       "    </tr>\n",
       "  </tbody>\n",
       "</table>\n",
       "</div>"
      ],
      "text/plain": [
       "       CustomerID FirstName LastName            AddressLine1            City  \\\n",
       "18355       14522      Omar    Zheng      8527 Rock Oak Road          Melton   \n",
       "18356       25414     Grace   Bailey      6627 Camelback Ct.        Coronado   \n",
       "18357       11459     Tasha     Deng         9627 Kendall Rd  Port Macquarie   \n",
       "18358       12160    Jaclyn    Zhang       4364 Viera Avenue       Beaverton   \n",
       "18359       14353      Erin     Reed  3866 Mt. Everest Court       Vancouver   \n",
       "18360       16676    Amanda    Perry     7870 Orangewood Dr.       Grossmont   \n",
       "\n",
       "      StateProvinceName CountryRegionName PostalCode  BirthDate  \\\n",
       "18355          Victoria         Australia       3337 1967-08-20   \n",
       "18356        California     United States      92118 1990-11-11   \n",
       "18357   New South Wales         Australia       2444 1992-10-13   \n",
       "18358            Oregon     United States      97005 1983-11-24   \n",
       "18359  British Columbia            Canada    V7L 4J4 1995-06-15   \n",
       "18360        California     United States      91941 1986-03-26   \n",
       "\n",
       "       HomeOwnerFlag  NumberCarsOwned  NumberChildrenAtHome  TotalChildren  \\\n",
       "18355              1                1                     1              2   \n",
       "18356              0                1                     0              2   \n",
       "18357              0                2                     0              0   \n",
       "18358              0                2                     0              0   \n",
       "18359              0                0                     0              0   \n",
       "18360              1                2                     0              0   \n",
       "\n",
       "       YearlyIncome LastUpdated  BikeBuyer  AvgMonthSpend  \n",
       "18355         30442  2017-03-06        NaN            NaN  \n",
       "18356         52953  2017-03-06        NaN            NaN  \n",
       "18357         60992  2017-03-06        NaN            NaN  \n",
       "18358         51859  2017-03-06        NaN            NaN  \n",
       "18359         87177  2017-03-06        NaN            NaN  \n",
       "18360        136856  2017-03-06        NaN            NaN  "
      ]
     },
     "execution_count": 36,
     "metadata": {},
     "output_type": "execute_result"
    }
   ],
   "source": [
    "df[df['BikeBuyer'].isnull()]"
   ]
  },
  {
   "cell_type": "code",
   "execution_count": 37,
   "id": "93b0871e-e580-4858-b9f5-5f64cb1f2efa",
   "metadata": {},
   "outputs": [
    {
     "data": {
      "text/plain": [
       "CustomerID              0.000000\n",
       "FirstName               0.000000\n",
       "LastName                0.000000\n",
       "AddressLine1            0.000000\n",
       "City                    0.000000\n",
       "StateProvinceName       0.000000\n",
       "CountryRegionName       0.000000\n",
       "PostalCode              0.000000\n",
       "BirthDate               0.000000\n",
       "HomeOwnerFlag           0.000000\n",
       "NumberCarsOwned         0.000000\n",
       "NumberChildrenAtHome    0.000000\n",
       "TotalChildren           0.000000\n",
       "YearlyIncome            0.000000\n",
       "LastUpdated             0.000000\n",
       "BikeBuyer               0.032678\n",
       "AvgMonthSpend           0.032678\n",
       "dtype: float64"
      ]
     },
     "execution_count": 37,
     "metadata": {},
     "output_type": "execute_result"
    }
   ],
   "source": [
    "(df.isnull().sum()/df.shape[0])*100"
   ]
  },
  {
   "cell_type": "code",
   "execution_count": 38,
   "id": "e79e3750-f57c-4ea9-ac50-efaeadda2fb8",
   "metadata": {},
   "outputs": [],
   "source": [
    "df.dropna(axis=0,inplace=True)"
   ]
  },
  {
   "cell_type": "code",
   "execution_count": 39,
   "id": "1ee89ce3-dac4-4bbc-89f3-8cb8cc4b0e76",
   "metadata": {},
   "outputs": [],
   "source": [
    "df=df.astype({'BikeBuyer': 'int64'},copy=False)"
   ]
  },
  {
   "cell_type": "code",
   "execution_count": 40,
   "id": "2f4bd9f3-b6de-472a-acce-48f31cf09eaa",
   "metadata": {},
   "outputs": [
    {
     "data": {
      "text/plain": [
       "15351"
      ]
     },
     "execution_count": 40,
     "metadata": {},
     "output_type": "execute_result"
    }
   ],
   "source": [
    "from sklearn.preprocessing import MinMaxScaler\n",
    "scaler=MinMaxScaler()\n",
    "df['AvgMonthSpend_Normalised']=scaler.fit_transform(df['AvgMonthSpend'].values.reshape(-1,1))\n",
    "df['YearlyIncome_Normalised']=scaler.fit_transform(df['YearlyIncome'].values.reshape(-1,1))\n",
    "len(df['YearlyIncome'].value_counts().index)"
   ]
  },
  {
   "cell_type": "code",
   "execution_count": 42,
   "id": "ae0f6906-7023-49db-b008-6d2436d46f7b",
   "metadata": {},
   "outputs": [],
   "source": [
    "import numpy as np\n",
    "bin_YearlyIncome=np.arange(min(df['YearlyIncome']),max(df['YearlyIncome']),20000)\n",
    "len(bin_YearlyIncome)\n",
    "YearlyIncome_label=['below low','low','Medium','above medium','High']"
   ]
  },
  {
   "cell_type": "code",
   "execution_count": 43,
   "id": "9fae06f8-6979-4b9e-84bc-f8e6fca7953d",
   "metadata": {},
   "outputs": [],
   "source": [
    "df['YearlyBinned']=pd.cut(df['YearlyIncome'],bins=bin_YearlyIncome,labels=YearlyIncome_label)"
   ]
  },
  {
   "cell_type": "code",
   "execution_count": 44,
   "id": "41bcb6bf-af8f-44a1-a160-5f8079aa43f5",
   "metadata": {},
   "outputs": [],
   "source": [
    "bin_AvgMonthSpend=np.arange(min(df['AvgMonthSpend']),max(df['AvgMonthSpend']),5)\n",
    "len(bin_AvgMonthSpend)\n",
    "label_AvgMonthSpend=['Low','Medium','Above Medium','High']"
   ]
  },
  {
   "cell_type": "code",
   "execution_count": 45,
   "id": "be60cfeb-4626-403b-9568-84078e753064",
   "metadata": {},
   "outputs": [],
   "source": [
    "df['AvgMonthSpend_binned']=pd.cut(df['AvgMonthSpend'],bins=bin_AvgMonthSpend,labels=label_AvgMonthSpend)"
   ]
  },
  {
   "cell_type": "code",
   "execution_count": 46,
   "id": "873f3201-0d97-4d73-b0ab-3bf2a15c70e8",
   "metadata": {},
   "outputs": [
    {
     "data": {
      "text/plain": [
       "<18355x2 sparse matrix of type '<class 'numpy.float64'>'\n",
       "\twith 18355 stored elements in Compressed Sparse Row format>"
      ]
     },
     "execution_count": 46,
     "metadata": {},
     "output_type": "execute_result"
    }
   ],
   "source": [
    "from sklearn.preprocessing import OneHotEncoder\n",
    "onehotencoder=OneHotEncoder()\n",
    "onehotencoder.fit_transform(df['HomeOwnerFlag'].values.reshape(-1,1))"
   ]
  },
  {
   "cell_type": "code",
   "execution_count": 47,
   "id": "ece8aa85-656b-4171-9d8e-c6492eebd8f1",
   "metadata": {},
   "outputs": [],
   "source": [
    "def jaccard(list1, list2):\n",
    "    intersection = len(list(set(list1).intersection(list2)))\n",
    "    union = (len(list1) + len(list2)) - intersection\n",
    "    return float(intersection) / union"
   ]
  },
  {
   "cell_type": "code",
   "execution_count": 48,
   "id": "7fb29c21-0443-4ff6-b1c2-f30eac0aad6a",
   "metadata": {},
   "outputs": [
    {
     "data": {
      "text/plain": [
       "0.0"
      ]
     },
     "execution_count": 48,
     "metadata": {},
     "output_type": "execute_result"
    }
   ],
   "source": [
    "jaccard(df['YearlyIncome'],df['AvgMonthSpend'])"
   ]
  },
  {
   "cell_type": "code",
   "execution_count": 49,
   "id": "ec277b84-db82-4fff-8c17-cd6d483b66a2",
   "metadata": {},
   "outputs": [
    {
     "data": {
      "text/plain": [
       "5.448403617740002e-05"
      ]
     },
     "execution_count": 49,
     "metadata": {},
     "output_type": "execute_result"
    }
   ],
   "source": [
    "jaccard(df['NumberChildrenAtHome'],df['BikeBuyer'])"
   ]
  },
  {
   "cell_type": "code",
   "execution_count": 50,
   "id": "233a17cf-7c7e-4bf8-a205-5f22ed13b163",
   "metadata": {},
   "outputs": [
    {
     "data": {
      "text/plain": [
       "0.01220288354739264"
      ]
     },
     "execution_count": 50,
     "metadata": {},
     "output_type": "execute_result"
    }
   ],
   "source": [
    "df['YearlyIncome'].corr(df['AvgMonthSpend'])"
   ]
  },
  {
   "cell_type": "code",
   "execution_count": null,
   "id": "a003ac26-e32a-4920-9d53-83f5b9ea97ac",
   "metadata": {},
   "outputs": [],
   "source": []
  }
 ],
 "metadata": {
  "kernelspec": {
   "display_name": "Python 3 (ipykernel)",
   "language": "python",
   "name": "python3"
  },
  "language_info": {
   "codemirror_mode": {
    "name": "ipython",
    "version": 3
   },
   "file_extension": ".py",
   "mimetype": "text/x-python",
   "name": "python",
   "nbconvert_exporter": "python",
   "pygments_lexer": "ipython3",
   "version": "3.11.4"
  }
 },
 "nbformat": 4,
 "nbformat_minor": 5
}
