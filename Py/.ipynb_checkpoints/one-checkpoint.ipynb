{
 "cells": [
  {
   "cell_type": "code",
   "execution_count": 7,
   "id": "b67b553d-8f68-4e71-b2a0-cabbfb71334b",
   "metadata": {},
   "outputs": [
    {
     "data": {
      "text/plain": [
       "array([5, 4, 6, 3, 2, 1])"
      ]
     },
     "execution_count": 7,
     "metadata": {},
     "output_type": "execute_result"
    }
   ],
   "source": [
    "import numpy as np\n",
    "arr = np.array([1,2,3,6,4,5])\n",
    "arr = np.flip(arr)\n",
    "arr"
   ]
  },
  {
   "cell_type": "code",
   "execution_count": 11,
   "id": "95cc9f35-b4b1-41b9-b310-0422227f91e0",
   "metadata": {},
   "outputs": [
    {
     "data": {
      "text/plain": [
       "array([1, 2, 3, 2, 4, 5, 1, 2, 3])"
      ]
     },
     "execution_count": 11,
     "metadata": {},
     "output_type": "execute_result"
    }
   ],
   "source": [
    "array1 = np.array([[1, 2, 3], [2, 4, 5], [1, 2, 3]])\n",
    "array1.flatten()"
   ]
  },
  {
   "cell_type": "code",
   "execution_count": 15,
   "id": "e1199a92-52ff-4d66-9bad-04d4363f1e58",
   "metadata": {},
   "outputs": [
    {
     "name": "stdout",
     "output_type": "stream",
     "text": [
      "True\n"
     ]
    }
   ],
   "source": [
    "arr1 = np.array([[1, 2], [3, 4]])\n",
    "arr2 = np.array([[1, 2], [3, 4]])\n",
    "compare = arr1 == arr2\n",
    "equal_arrays = compare.all()\n",
    "print(equal_arrays)"
   ]
  },
  {
   "cell_type": "code",
   "execution_count": 31,
   "id": "52a5c3ba-dc49-4505-90bd-630d90f07253",
   "metadata": {},
   "outputs": [
    {
     "name": "stdout",
     "output_type": "stream",
     "text": [
      "1\n",
      "[0 5 7 8 9]\n",
      "1\n",
      "[0 1 2]\n"
     ]
    }
   ],
   "source": [
    "x = np.array([1,2,3,4,5,1,2,1,1,1])\n",
    "y = np.array([1, 1, 1, 2, 3, 4, 2, 4, 3, 3, ])\n",
    "x_most_freq = np.bincount(x).argmax()\n",
    "print(x_most_freq)\n",
    "print(np.where(x == x_most_freq)[0])\n",
    "y_most_freq = np.bincount(y).argmax()\n",
    "print(y_most_freq)\n",
    "print(np.where(y == y_most_freq)[0])"
   ]
  },
  {
   "cell_type": "code",
   "execution_count": 35,
   "id": "f2d4f006-3893-4eb9-9eca-53fbdb40f6fd",
   "metadata": {},
   "outputs": [
    {
     "name": "stdout",
     "output_type": "stream",
     "text": [
      "45\n",
      "[[14]\n",
      " [16]\n",
      " [15]]\n",
      "[[20  9 16]]\n"
     ]
    }
   ],
   "source": [
    "gfg = np.matrix('[4, 1, 9; 12, 3, 1; 4, 5, 6]')\n",
    "sum_all_elem = gfg.sum()\n",
    "sum_row_elem = gfg.sum(axis = 1)\n",
    "sum_col_elem = gfg.sum(axis = 0)\n",
    "print(sum_all_elem)\n",
    "print(sum_row_elem)\n",
    "print(sum_col_elem)"
   ]
  },
  {
   "cell_type": "code",
   "execution_count": 45,
   "id": "86c68d5e-ffcd-48c1-959c-ef4b19e9ff4b",
   "metadata": {},
   "outputs": [
    {
     "name": "stdout",
     "output_type": "stream",
     "text": [
      "176\n",
      "[98.16835147 28.097044   49.73460452]\n",
      "[[ 0.4574917   0.34637121 -0.15017693]\n",
      " [ 0.28447814 -0.72784061 -0.4852124 ]\n",
      " [ 0.84248058  0.59184038  0.8614034 ]]\n",
      "[[ 0.02404141 -0.00911212 -0.00444671]\n",
      " [-0.01667882  0.02966905  0.0024785 ]\n",
      " [ 0.00631287 -0.01603732  0.01217379]]\n",
      "137180.0000000001\n"
     ]
    }
   ],
   "source": [
    "n_array = np.array([[55, 25, 15],[30, 44, 2],[11, 45, 77]])\n",
    "sum_dia = np.trace(n_array)\n",
    "print(sum_dia)\n",
    "\n",
    "eigen_val, eigen_vec = np.linalg.eig(n_array)\n",
    "print(eigen_val)\n",
    "print(eigen_vec)\n",
    "\n",
    "inv_mat = np.linalg.inv(n_array)\n",
    "print(inv_mat)\n",
    "\n",
    "det = np.linalg.det(n_array)\n",
    "print(det)"
   ]
  },
  {
   "cell_type": "code",
   "execution_count": 47,
   "id": "33323b3b-6bd6-42ad-ab72-873417aa21c9",
   "metadata": {},
   "outputs": [
    {
     "name": "stdout",
     "output_type": "stream",
     "text": [
      "[[16 19]\n",
      " [26 31]]\n",
      "[[0.66666667 1.        ]\n",
      " [1.         1.66666667]]\n",
      "[[16 19  5]\n",
      " [26 31  8]\n",
      " [46 55 14]]\n",
      "[[2.16666667 0.23333333]\n",
      " [0.23333333 5.36666667]]\n"
     ]
    }
   ],
   "source": [
    "p1 = np.array([[1, 2], [2, 3]])\n",
    "q1 = np.array([[4, 5], [6, 7]])\n",
    "\n",
    "dot_prod = np.dot(p1, q1)\n",
    "print(dot_prod)\n",
    "\n",
    "p1_flat = p1.flatten()\n",
    "q1_flat = q1.flatten()\n",
    "cov1 = np.cov(p1_flat, q1_flat)\n",
    "print(cov1)\n",
    "\n",
    "p2 = np.array([[1, 2], [2, 3], [4, 5]])\n",
    "q2 = np.array([[4, 5, 1], [6, 7, 2]])\n",
    "\n",
    "product2 = np.dot(p2, q2)\n",
    "print(product2)\n",
    "\n",
    "p2_flat = p2.flatten()\n",
    "q2_flat = q2.flatten()\n",
    "covariance2 = np.cov(p2_flat, q2_flat)\n",
    "print(covariance2)\n"
   ]
  },
  {
   "cell_type": "code",
   "execution_count": 49,
   "id": "a9850fb1-db7c-4148-92ca-f8c151853b62",
   "metadata": {},
   "outputs": [
    {
     "name": "stdout",
     "output_type": "stream",
     "text": [
      "Inner product of x and y: \n",
      "[[17 52]\n",
      " [13 62]]\n",
      "Outer product of x and y: \n",
      "[[ 2 10  0 10 20  6]\n",
      " [ 3 15  0 15 30  9]\n",
      " [ 4 20  0 20 40 12]\n",
      " [ 3 15  0 15 30  9]\n",
      " [ 2 10  0 10 20  6]\n",
      " [ 9 45  0 45 90 27]]\n",
      "Cartesian product of x and y: \n",
      "[[ 2  1]\n",
      " [ 2  5]\n",
      " [ 2  0]\n",
      " [ 2  5]\n",
      " [ 2 10]\n",
      " [ 2  3]\n",
      " [ 3  1]\n",
      " [ 3  5]\n",
      " [ 3  0]\n",
      " [ 3  5]\n",
      " [ 3 10]\n",
      " [ 3  3]\n",
      " [ 4  1]\n",
      " [ 4  5]\n",
      " [ 4  0]\n",
      " [ 4  5]\n",
      " [ 4 10]\n",
      " [ 4  3]\n",
      " [ 3  1]\n",
      " [ 3  5]\n",
      " [ 3  0]\n",
      " [ 3  5]\n",
      " [ 3 10]\n",
      " [ 3  3]\n",
      " [ 2  1]\n",
      " [ 2  5]\n",
      " [ 2  0]\n",
      " [ 2  5]\n",
      " [ 2 10]\n",
      " [ 2  3]\n",
      " [ 9  1]\n",
      " [ 9  5]\n",
      " [ 9  0]\n",
      " [ 9  5]\n",
      " [ 9 10]\n",
      " [ 9  3]]\n"
     ]
    }
   ],
   "source": [
    "x = np.array([[2, 3, 4], [3, 2, 9]])\n",
    "y = np.array([[1, 5, 0], [5, 10, 3]])\n",
    "\n",
    "inner_product = np.dot(x, y.T)\n",
    "print(f\"Inner product of x and y: \\n{inner_product}\")\n",
    "\n",
    "outer_product = np.outer(x.flatten(), y.flatten())\n",
    "print(f\"Outer product of x and y: \\n{outer_product}\")\n",
    "\n",
    "x_flat = x.flatten()\n",
    "y_flat = y.flatten()\n",
    "cartesian_product = np.array(np.meshgrid(x_flat, y_flat)).T.reshape(-1, 2)\n",
    "print(f\"Cartesian product of x and y: \\n{cartesian_product}\")\n"
   ]
  },
  {
   "cell_type": "code",
   "execution_count": 51,
   "id": "504bddaf-36ae-4868-a997-5d5d4620a3e4",
   "metadata": {},
   "outputs": [
    {
     "name": "stdout",
     "output_type": "stream",
     "text": [
      "Element-wise absolute value: \n",
      "[[1 2 3]\n",
      " [4 5 6]]\n",
      "Percentiles (25th, 50th, 75th) of flattened array: [-3.5 -0.5  2.5]\n",
      "Percentiles (25th, 50th, 75th) for each column: \n",
      "[[-2.75 -0.25 -3.75]\n",
      " [-1.5   1.5  -1.5 ]\n",
      " [-0.25  3.25  0.75]]\n",
      "Percentiles (25th, 50th, 75th) for each row: \n",
      "[[-0.5 -5. ]\n",
      " [ 1.  -4. ]\n",
      " [ 2.   0.5]]\n",
      "Mean of flattened array: -0.5\n",
      "Mean for each column: [-1.5  1.5 -1.5]\n",
      "Mean for each row: [ 0.66666667 -1.66666667]\n",
      "\n",
      "Median of flattened array: -0.5\n",
      "Median for each column: [-1.5  1.5 -1.5]\n",
      "Median for each row: [ 1. -4.]\n",
      "\n",
      "Standard Deviation of flattened array: 3.8622100754188224\n",
      "Standard Deviation for each column: [2.5 3.5 4.5]\n",
      "Standard Deviation for each row: [2.05480467 4.78423336]\n"
     ]
    }
   ],
   "source": [
    "array = np.array([[1, -2, 3], [-4, 5, -6]])\n",
    "\n",
    "# i. Element-wise absolute value\n",
    "abs_array = np.abs(array)\n",
    "print(f\"Element-wise absolute value: \\n{abs_array}\")\n",
    "\n",
    "# ii. Percentiles (25th, 50th, 75th)\n",
    "# Flattened array percentiles\n",
    "flattened_array = array.flatten()\n",
    "percentiles_flat = np.percentile(flattened_array, [25, 50, 75])\n",
    "print(f\"Percentiles (25th, 50th, 75th) of flattened array: {percentiles_flat}\")\n",
    "\n",
    "# Column-wise percentiles\n",
    "percentiles_col = np.percentile(array, [25, 50, 75], axis=0)\n",
    "print(f\"Percentiles (25th, 50th, 75th) for each column: \\n{percentiles_col}\")\n",
    "\n",
    "# Row-wise percentiles\n",
    "percentiles_row = np.percentile(array, [25, 50, 75], axis=1)\n",
    "print(f\"Percentiles (25th, 50th, 75th) for each row: \\n{percentiles_row}\")\n",
    "\n",
    "# iii. Mean, Median, and Standard Deviation\n",
    "# Mean\n",
    "mean_flat = np.mean(flattened_array)\n",
    "mean_col = np.mean(array, axis=0)\n",
    "mean_row = np.mean(array, axis=1)\n",
    "\n",
    "# Median\n",
    "median_flat = np.median(flattened_array)\n",
    "median_col = np.median(array, axis=0)\n",
    "median_row = np.median(array, axis=1)\n",
    "\n",
    "# Standard Deviation\n",
    "std_flat = np.std(flattened_array)\n",
    "std_col = np.std(array, axis=0)\n",
    "std_row = np.std(array, axis=1)\n",
    "\n",
    "print(f\"Mean of flattened array: {mean_flat}\")\n",
    "print(f\"Mean for each column: {mean_col}\")\n",
    "print(f\"Mean for each row: {mean_row}\\n\")\n",
    "\n",
    "print(f\"Median of flattened array: {median_flat}\")\n",
    "print(f\"Median for each column: {median_col}\")\n",
    "print(f\"Median for each row: {median_row}\\n\")\n",
    "\n",
    "print(f\"Standard Deviation of flattened array: {std_flat}\")\n",
    "print(f\"Standard Deviation for each column: {std_col}\")\n",
    "print(f\"Standard Deviation for each row: {std_row}\")\n"
   ]
  },
  {
   "cell_type": "code",
   "execution_count": 55,
   "id": "a8c91f9f-1dcc-4967-ae55-31a5493d5638",
   "metadata": {},
   "outputs": [
    {
     "name": "stdout",
     "output_type": "stream",
     "text": [
      "Floor values: [-2. -2. -1.  0.  1.  1.  3.]\n",
      "Ceiling values: [-1. -1. -0.  1.  2.  2.  3.]\n",
      "Truncated values: [-1. -1. -0.  0.  1.  1.  3.]\n",
      "Rounded values: [-2. -2. -0.  0.  2.  2.  3.]\n"
     ]
    }
   ],
   "source": [
    "a = np.array([-1.8, -1.6, -0.5, 0.5, 1.6, 1.8, 3.0])\n",
    "\n",
    "floor_values = np.floor(a)\n",
    "print(f\"Floor values: {floor_values}\")\n",
    "\n",
    "ceiling_values = np.ceil(a)\n",
    "print(f\"Ceiling values: {ceiling_values}\")\n",
    "\n",
    "truncated_values = np.trunc(a)\n",
    "print(f\"Truncated values: {truncated_values}\")\n",
    "\n",
    "rounded_values = np.round(a)\n",
    "print(f\"Rounded values: {rounded_values}\")\n"
   ]
  },
  {
   "cell_type": "code",
   "execution_count": 57,
   "id": "c6922fea-706f-4fd4-9658-8c974fb12620",
   "metadata": {},
   "outputs": [
    {
     "name": "stdout",
     "output_type": "stream",
     "text": [
      "Sorted array: [ 10  16  16  52  54  62 453]\n",
      "Indices of sorted array: [0 3 4 1 5 2 6]\n",
      "4 smallest elements: [10 16 16 52]\n",
      "5 largest elements: [ 16  52  54  62 453]\n"
     ]
    }
   ],
   "source": [
    "import numpy as np\n",
    "\n",
    "array = np.array([10, 52, 62, 16, 16, 54, 453])\n",
    "\n",
    "sorted_array = np.sort(array)\n",
    "print(f\"Sorted array: {sorted_array}\")\n",
    "\n",
    "sorted_indices = np.argsort(array)\n",
    "print(f\"Indices of sorted array: {sorted_indices}\")\n",
    "\n",
    "smallest_elements = np.sort(array)[:4]\n",
    "print(f\"4 smallest elements: {smallest_elements}\")\n",
    "\n",
    "largest_elements = np.sort(array)[-5:]\n",
    "print(f\"5 largest elements: {largest_elements}\")\n"
   ]
  },
  {
   "cell_type": "code",
   "execution_count": null,
   "id": "cdf4a796-e6ea-4080-9c23-ef6415cffc0a",
   "metadata": {},
   "outputs": [],
   "source": [
    "array = np.array([1.0, 1.2, 2.2, 2.0, 3.0, 2.0])\n",
    "\n",
    "integer_elements = array[array == np.trunc(array)]\n",
    "print(f\"Integer elements only: {integer_elements}\")\n",
    "\n",
    "float_elements = array[array != np.trunc(array)]\n",
    "print(f\"Float elements only: {float_elements}\")\n"
   ]
  },
  {
   "cell_type": "code",
   "execution_count": null,
   "id": "7e472d2c-7210-47da-a418-490bcc4a1e30",
   "metadata": {},
   "outputs": [],
   "source": [
    "from PIL import Image\n",
    "import numpy as np\n",
    "\n",
    "def img_to_array(path):\n",
    "    img = Image.open(path)\n",
    "\n",
    "    img_array = np.array(img)\n",
    "\n",
    "    if len(img_array.shape) == 2:  \n",
    "        print(\"The image is in grayscale.\")\n",
    "        output_file = \"grayscale_image.txt\"\n",
    "        \n",
    "        np.savetxt(output_file, img_array, fmt='%d', delimiter=',')\n",
    "        print(f\"Grayscale image array saved to {output_file}.\")\n",
    "        \n",
    "    elif len(img_array.shape) == 3 and img_array.shape[2] == 3:\n",
    "        print(\"The image is in RGB format.\")\n",
    "        output_file = \"rgb_image.txt\"\n",
    "        \n",
    "        with open(output_file, 'w') as f:\n",
    "            for row in img_array:\n",
    "                np.savetxt(f, row, fmt='%d', delimiter=',')\n",
    "        \n",
    "        print(f\"RGB image array saved to {output_file}.\")\n",
    "        \n",
    "    else:\n",
    "        print(\"The image format is not supported.\")\n",
    "\n",
    "# img_to_array('path_to_your_image.jpg')\n",
    "img_to_array('path_to_your_image.jpg')"
   ]
  }
 ],
 "metadata": {
  "kernelspec": {
   "display_name": "Python 3 (ipykernel)",
   "language": "python",
   "name": "python3"
  },
  "language_info": {
   "codemirror_mode": {
    "name": "ipython",
    "version": 3
   },
   "file_extension": ".py",
   "mimetype": "text/x-python",
   "name": "python",
   "nbconvert_exporter": "python",
   "pygments_lexer": "ipython3",
   "version": "3.12.4"
  }
 },
 "nbformat": 4,
 "nbformat_minor": 5
}
