{
 "cells": [
  {
   "cell_type": "code",
   "execution_count": 8,
   "id": "fe1a9474-b26f-4a42-9f36-c3c6ce63692b",
   "metadata": {},
   "outputs": [
    {
     "ename": "TypeError",
     "evalue": "list.append() takes exactly one argument (2 given)",
     "output_type": "error",
     "traceback": [
      "\u001b[1;31m---------------------------------------------------------------------------\u001b[0m",
      "\u001b[1;31mTypeError\u001b[0m                                 Traceback (most recent call last)",
      "Cell \u001b[1;32mIn[8], line 22\u001b[0m\n\u001b[0;32m     20\u001b[0m S1 \u001b[38;5;241m=\u001b[39m Solution()\n\u001b[0;32m     21\u001b[0m folder\u001b[38;5;241m=\u001b[39m[\u001b[38;5;124m\"\u001b[39m\u001b[38;5;124m/a\u001b[39m\u001b[38;5;124m\"\u001b[39m,\u001b[38;5;124m\"\u001b[39m\u001b[38;5;124m/a/b\u001b[39m\u001b[38;5;124m\"\u001b[39m,\u001b[38;5;124m\"\u001b[39m\u001b[38;5;124m/c/d\u001b[39m\u001b[38;5;124m\"\u001b[39m,\u001b[38;5;124m\"\u001b[39m\u001b[38;5;124m/c/d/e\u001b[39m\u001b[38;5;124m\"\u001b[39m,\u001b[38;5;124m\"\u001b[39m\u001b[38;5;124m/c/f\u001b[39m\u001b[38;5;124m\"\u001b[39m]\n\u001b[1;32m---> 22\u001b[0m \u001b[38;5;28mprint\u001b[39m(\u001b[43mS1\u001b[49m\u001b[38;5;241;43m.\u001b[39;49m\u001b[43mremoveSubfolders\u001b[49m\u001b[43m(\u001b[49m\u001b[43mfolder\u001b[49m\u001b[43m)\u001b[49m)\n",
      "Cell \u001b[1;32mIn[8], line 7\u001b[0m, in \u001b[0;36mSolution.removeSubfolders\u001b[1;34m(self, folder)\u001b[0m\n\u001b[0;32m      5\u001b[0m begi_fol\u001b[38;5;241m=\u001b[39mfolder[\u001b[38;5;241m0\u001b[39m]\n\u001b[0;32m      6\u001b[0m ans\u001b[38;5;241m=\u001b[39m[]\n\u001b[1;32m----> 7\u001b[0m \u001b[43mans\u001b[49m\u001b[38;5;241;43m.\u001b[39;49m\u001b[43mappend\u001b[49m\u001b[43m(\u001b[49m\u001b[43mbegi_fol\u001b[49m\u001b[43m,\u001b[49m\u001b[38;5;241;43m0\u001b[39;49m\u001b[43m)\u001b[49m\n\u001b[0;32m      8\u001b[0m \u001b[38;5;28;01mfor\u001b[39;00m i \u001b[38;5;129;01min\u001b[39;00m folder:\n\u001b[0;32m      9\u001b[0m     substr_req\u001b[38;5;241m=\u001b[39mi[\u001b[38;5;241m0\u001b[39m:begi_fol\u001b[38;5;241m.\u001b[39msize()]\u001b[38;5;241m+\u001b[39m\u001b[38;5;124m\"\u001b[39m\u001b[38;5;124m/\u001b[39m\u001b[38;5;124m\"\u001b[39m\n",
      "\u001b[1;31mTypeError\u001b[0m: list.append() takes exactly one argument (2 given)"
     ]
    }
   ],
   "source": [
    "from typing import List\n",
    "class Solution:\n",
    "    def removeSubfolders(self, folder: List[str]) -> List[str]:\n",
    "        sorted(folder)\n",
    "        begi_fol=folder[0]\n",
    "        ans=[]\n",
    "        ans.append(begi_fol,0)\n",
    "        for i in folder:\n",
    "            substr_req=i[0:begi_fol.size()]+\"/\"\n",
    "            print(substr_fol,end=\"\\n\")\n",
    "            if i==substr_req:\n",
    "                continue\n",
    "            else:\n",
    "                ans.append(i)\n",
    "                begi_fol=i\n",
    "                print(begi_fol,end=\"\\n\")\n",
    "                continue\n",
    "        return ans\n",
    "\n",
    "S1 = Solution()\n",
    "folder=[\"/a\",\"/a/b\",\"/c/d\",\"/c/d/e\",\"/c/f\"]\n",
    "print(S1.removeSubfolders(folder))"
   ]
  }
 ],
 "metadata": {
  "kernelspec": {
   "display_name": "Python 3 (ipykernel)",
   "language": "python",
   "name": "python3"
  },
  "language_info": {
   "codemirror_mode": {
    "name": "ipython",
    "version": 3
   },
   "file_extension": ".py",
   "mimetype": "text/x-python",
   "name": "python",
   "nbconvert_exporter": "python",
   "pygments_lexer": "ipython3",
   "version": "3.11.4"
  }
 },
 "nbformat": 4,
 "nbformat_minor": 5
}
