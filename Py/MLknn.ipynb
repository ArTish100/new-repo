{
 "cells": [
  {
   "cell_type": "code",
   "execution_count": null,
   "id": "7c33f12c-3377-4a3f-9f24-a86765f9320c",
   "metadata": {},
   "outputs": [],
   "source": [
    "from sklearn.datasets import load_iris\n",
    "from sklearn.model_selection import train_test_split\n",
    "from sklearn.metrics import accuracy_score\n",
    "import numpy as np\n",
    "iris = load_iris()\n",
    "X = iris.data\n",
    "y = iris.target\n",
    "X_train, X_test, y_train, y_test = train_test_split(X, y, test_size=0.3, random_state=1)\n",
    "\n",
    "def euclidean_distance(point1, point2):\n",
    "    return np.sqrt(np.sum((point1 - point2) ** 2))\n",
    "    \n",
    "def k_nearest_neighbors(X_train, y_train, test_point, k=3):\n",
    "    distances = []\n",
    "\n",
    "    for i, train_point in enumerate(X_train):\n",
    "        distance = euclidean_distance(test_point, train_point)\n",
    "        distances.append((distance, y_train[i]))\n",
    "\n",
    "    distances = sorted(distances, key=lambda x: x[0])\n",
    "    k_nearest_labels = [label for _, label in distances[:k]]\n",
    "\n",
    "    predicted_label = max(set(k_nearest_labels), key=k_nearest_labels.count)\n",
    "    return predicted_label\n",
    "\n",
    "correct_predictions = 0\n",
    "wrong_predictions = 0"
   ]
  }
 ],
 "metadata": {
  "kernelspec": {
   "display_name": "Python 3 (ipykernel)",
   "language": "python",
   "name": "python3"
  },
  "language_info": {
   "codemirror_mode": {
    "name": "ipython",
    "version": 3
   },
   "file_extension": ".py",
   "mimetype": "text/x-python",
   "name": "python",
   "nbconvert_exporter": "python",
   "pygments_lexer": "ipython3",
   "version": "3.11.4"
  }
 },
 "nbformat": 4,
 "nbformat_minor": 5
}
